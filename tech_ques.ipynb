{
 "cells": [
  {
   "cell_type": "markdown",
   "metadata": {},
   "source": [
    "# Contents:\n",
    "\n",
    "This notebook contains the questions asked in various technical interviews."
   ]
  },
  {
   "cell_type": "markdown",
   "metadata": {},
   "source": [
    "1. <font color = blue> Say you had to plan for a company's server capacity in Belgium (the country is irrelevant) in 2020, and you had access to any data you wanted about anything in the world, how would you go about doing this? </font>\n",
    "\n",
    "From a modeling point of view, look at this as a time-series modeling question. That is try to predict the capacity at any point in time as a function of the past capacities (capacities at previous points in time) as well as past values of other features.\n",
    "\n",
    "#### If access to any data is possible:\n",
    "Look at factors like mobile usage of Google over time, number of users over time, population of Belgium over time, etc. And of course the server capacity (target variable over time).\n",
    "\n",
    "\n",
    "Modeling could be ARIMA model for time-series prediction.\n",
    "\n",
    "\n",
    "2. <font color = blue> It is told that it is okay to overestimate the capacity, but disastrous to underestimate it. How do you deal with this fact in your estimation? </font>\n",
    "    \n",
    "Install capacity that is greater than the model estimate by some arbitrary number, like 5%.\n",
    "To do this in a systematic way, calculate the error bars in the estimate, and choose the upper end of the error bar.\n",
    "\n",
    "3. <font color = blue> How to explain confidence interval to a layman person? </font>\n",
    "    \n",
    "If I am performing an experiment and I obtain a mean of 0.5 with 95% confidence interval, it means that while repeating the same experiemnt 100 times, I would get the mean value as 0.5 95 times.\n",
    "\n",
    "4. <font color = blue> How to estimate the 95% confidence interval of the mean of data where the distribution function is unknown, and that is seen to be very non-symmetric and non-Gaussian? </font>\n",
    "    \n",
    "Use the Central Limit Theorem (CLT) to your advantage, by randomly sampling the dataset several times, and computing the means of these samples. By CLT, the sample means will be Gaussian distributed and you can then use the variance of these sample means to get the confidence interval on the dataset mean.\n",
    "\n",
    "5. <font color = blue> Two people bid on a product and the bid values are unknown to the players </font>.\n",
    "\n",
    "Given uniform distribution for the bid amounts, to be within \\[0, 1\\].\n",
    "\n",
    "The expectation value is given by\n",
    "\n",
    "$E(x) = \\int_0^1 x p(x) dx$,\n",
    "\n",
    "where $p(x)$ is the probability distribution function (pdf) and it is the derivative of the cumulative distribution function (cdf), given by\n",
    "\n",
    "$F(x) = \\int_0 ^ x x dx$.\n",
    "\n",
    "CDF basically gives the probability of obtaining the value which is less than or equal to the observed/target value.\n",
    "\n",
    "6. <font color = blue> The following questions are part of the same question.\n",
    "    - You have a historical record of who wins a game, A or B. How will you decide who is strong player?\n",
    "    - If the total number of games played is 99, and A wins 50, B 49,  is it too close to call who is better?\n",
    "    - If there’s just one game played, and A wins, what is the standard deviation? </font>\n",
    "\n",
    "7. <font color = blue> What is the probability that a 9 set game will go into the 9th game? </font>\n"
   ]
  },
  {
   "cell_type": "markdown",
   "metadata": {},
   "source": [
    "## Central Limit Theorem\n",
    "It establishes that, in some situations, when independent random variables are added, their properly normalized sum tends toward a normal distribution even if the original variables themselves are not normally distributed. The theorem is a key concept in probability theory because it implies that probabilistic and statistical methods that work for normal distributions can be applicable to many problems involving other types of distributions."
   ]
  },
  {
   "cell_type": "markdown",
   "metadata": {},
   "source": [
    "Median is robust to outliers, whereas mean is sensitive to it. Depending on the problem, it may be useful to use either of them."
   ]
  },
  {
   "cell_type": "markdown",
   "metadata": {},
   "source": [
    "Do you know the following:\n",
    "1. Do you know SVD?\n",
    "2. What are the assumptions for ANOVA?\n",
    "3. What is the hardest job of translating a paper's algorithm to actual coding?\n",
    "4. What is the most mathematical project you have done so far?\n",
    "5. Have you played the game?\n",
    "6. What ki d of projects do you want to work on?\n",
    "7. What is the interpretation of feature importance of a gbm algorithm?"
   ]
  },
  {
   "cell_type": "markdown",
   "metadata": {},
   "source": [
    "What happens when there is multi collinearity and which regularization to use in case there is multi collinearity.\n",
    "The other were pretty standard, by which I mean a subset of the following list\n",
    "Supervised vs. Unsupervised learning?\n",
    "Generative vs. Discriminative models\n",
    "Bias - Variance trade off. Explain what it is. Why is it a tradeoff? \n",
    "What is regularization? \n",
    "What is the trade off of using a regularization parameter? \n",
    "Regularization increases bias, decreases variance. \n",
    "Does a larger training set increase/ decrease variance? Decrease. \n",
    "When is it a good idea to get more data? \n",
    "When is it not worth it? Learning curve. \n",
    "How will increasing the depth of a random forest affect bias-variance. \n",
    "kNN with low k has high variance thus low bias. \n",
    "Draw a picture of what low/high bias low/high variance look like?\n",
    "What is curse of dimensionality? How can you combat it?\n",
    "Can you describe linear regression model?\n",
    "What does the cost function look like? Why squared error?\n",
    "What do the coefficients give you?\n",
    "What metric(s) do you use to evaluate the result of a linear regression problem?\n",
    "What are some assumptions of linear regression? https://www.statisticssolutions.com/assumptions-of-linear-regression/\n",
    "Why is multicollinearity a problem? \n",
    "How do you combat multicollinearity?\n",
    "What is the difference between L2 and L1 when talking about regularization?\n",
    "How does Neural Network with one layer and one input compare to a logistic regression.\n",
    "\n",
    "\n",
    "1. What's the difference between generative and discriminative models?\n",
    "2. You have two models, Naive Bayes and Logistic with balanced data containing 1000 samples, in the black box. How will you check which model is better?\n",
    "3. What are the axes for a ROC curve?\n",
    "4. You have a baseline model with 85% accuracy and a new model with 86% accuracy? How will you decide which one is better, i.e., should you use the new model?\n",
    "5. How would you tackle overfitting? What are L1 and L2 regularization?"
   ]
  },
  {
   "cell_type": "markdown",
   "metadata": {},
   "source": [
    "how many 45 feet beams are required to make 100 14 feet, 50 12 feet and 27 7 feet beams? You cannot melt the 45 feet beams"
   ]
  },
  {
   "cell_type": "markdown",
   "metadata": {},
   "source": [
    "Given a bar plot and imagine you are pouring water from the top, how to qualify how much water can be kept in the bar chart."
   ]
  },
  {
   "cell_type": "markdown",
   "metadata": {},
   "source": [
    "How will you use random forest for fraud detection?"
   ]
  },
  {
   "cell_type": "markdown",
   "metadata": {},
   "source": [
    "# <font color = blue> Algorithm/Coding Questions </font>"
   ]
  },
  {
   "cell_type": "markdown",
   "metadata": {},
   "source": [
    "### Write a function to calculate the number of anagrams in a sentence.\n",
    "Input: A string containing a sentence with one or more words including punctuation. \n",
    "\n",
    "Output: A count of the number of anagrams (a word formed by rearranging the letters of another).\n",
    "\n",
    "Example:\n",
    "\n",
    "Input: “The angel pat, glean tap”\n",
    "\n",
    "Expected output: 2"
   ]
  },
  {
   "cell_type": "code",
   "execution_count": 37,
   "metadata": {},
   "outputs": [],
   "source": [
    "def find_anagram(sentence):\n",
    "    sent = sentence.lower().replace(',', '').split(' ')\n",
    "    d = {}\n",
    "    count = 0\n",
    "    for word in sent:\n",
    "        anag = sorted(word)\n",
    "        if anag in d.values():\n",
    "            count += 1\n",
    "        else:\n",
    "            d[word] = anag\n",
    "    return count"
   ]
  },
  {
   "cell_type": "code",
   "execution_count": 38,
   "metadata": {},
   "outputs": [
    {
     "data": {
      "text/plain": [
       "3"
      ]
     },
     "execution_count": 38,
     "metadata": {},
     "output_type": "execute_result"
    }
   ],
   "source": [
    "s = 'The angel pat nale, glean tap lean'\n",
    "find_anagram(s)"
   ]
  },
  {
   "cell_type": "markdown",
   "metadata": {},
   "source": [
    "### Questions \n",
    "1. Recursively reverse a string.\n",
    "2. Print a number vertically with each digit on its own line, without converting to a string.\n",
    "3. Remove all prime numbers from a linked list. (no mention of how large numbers could be)\n",
    "4. Given a continous stream of characters, find the first non repeating character at any given point.\n",
    "5. Given a tree with left, right and next pointer, update next pointer to point to the right node at same level.\n",
    "6. Given two arrays containing numbers, find the difference of closest greatest of each number from left and right ?\n",
    "\n",
    "3 2 1 7 5\n",
    "\n",
    "0 3 2 0 7 => from left (here for number 1 since 2 and 3 are both greater, we pick the closest viz. 2)\n",
    "\n",
    "7 7 7 0 0 => from right\n",
    "\n",
    "7 4 5 0 7 => difference"
   ]
  },
  {
   "cell_type": "code",
   "execution_count": null,
   "metadata": {},
   "outputs": [],
   "source": []
  },
  {
   "cell_type": "markdown",
   "metadata": {},
   "source": [
    "## Candy-crush: Remove all continuous same numbers\n",
    "Given a 1-d array candy crush, return the shortest array after removing all the continuous same numbers (the repeating number >= 3)\n",
    "\n",
    "input: 1-d array \\[1, 3, 3, 3, 2, 2, 2, 3, 1\\], return: \\[1, 1\\]\n",
    "Time complexity should be better than O(n^2)."
   ]
  },
  {
   "cell_type": "code",
   "execution_count": 21,
   "metadata": {},
   "outputs": [],
   "source": [
    "def prepCandyPacks(arr):\n",
    "    ''''\n",
    "    helper func to transform inputs: candies to packs\n",
    "    '''\n",
    "    candyPacks = []\n",
    "    \n",
    "    prevCandy = None\n",
    "    count = 0\n",
    "    for candy in arr:\n",
    "        if candy == prevCandy:\n",
    "            count += 1\n",
    "        else:\n",
    "            if prevCandy:\n",
    "                candyPacks.append((prevCandy, count))\n",
    "            prevCandy = candy\n",
    "            count = 1\n",
    "    candyPacks.append((prevCandy, count))\n",
    "    return candyPacks"
   ]
  },
  {
   "cell_type": "code",
   "execution_count": 22,
   "metadata": {},
   "outputs": [],
   "source": [
    "def candyCrush(packs, k, total, memo):\n",
    "    if memo.get(tuple([]), None) is not None:\n",
    "        return # all can be crushed, stop exploring other crushing choices\n",
    "    \n",
    "    key = tuple(packs)\n",
    "    if memo.get(key, None) is not None:\n",
    "        return\n",
    "    \n",
    "    # print(packs, total)\n",
    "    memo[key] = total\n",
    "    if total < memo['min']:\n",
    "        memo['min'] = total\n",
    "        memo['remainingPacks'] = packs\n",
    "\n",
    "    for i in range(len(packs)):\n",
    "        candy, count = packs[i]\n",
    "        if count >= k:\n",
    "            if i > 0 and i < len(packs) - 1 and packs[i - 1][0] == packs[i + 1][0]:\n",
    "                candyCrush(\n",
    "                    packs[:i - 1] + \n",
    "                    [(packs[i - 1][0], packs[i - 1][1] + packs[i + 1][1])] + \n",
    "                    packs[i + 2:], \n",
    "                    k, total - count, memo)\n",
    "            else:\n",
    "                candyCrush(\n",
    "                    packs[:i] + \n",
    "                    packs[i + 1:], \n",
    "                    k, total - count, memo)"
   ]
  },
  {
   "cell_type": "code",
   "execution_count": 35,
   "metadata": {},
   "outputs": [],
   "source": [
    "def candyresult(arr):\n",
    "    print('array:', arr)\n",
    "    p = prepCandyPacks(arr)\n",
    "    mem = dict({'min': len(arr), 'remainingPacks': p})\n",
    "    candyCrush(p, 3, len(arr), mem)\n",
    "\n",
    "    result = []\n",
    "    for candy, count in mem['remainingPacks']:\n",
    "        result += [candy] * count\n",
    "    print('result:', result)"
   ]
  },
  {
   "cell_type": "code",
   "execution_count": 36,
   "metadata": {},
   "outputs": [
    {
     "name": "stdout",
     "output_type": "stream",
     "text": [
      "array: [1, 3, 3, 3, 2, 2, 2, 3, 1]\n",
      "result: [1, 1]\n"
     ]
    }
   ],
   "source": [
    "A = [1, 3, 3, 3, 2, 2, 2, 3, 1]\n",
    "candyresult(A)"
   ]
  },
  {
   "cell_type": "markdown",
   "metadata": {},
   "source": [
    "## Count minimum number of moves to sort an array\n",
    "Given an array of size $n$ such that array elements are in range from 1 to $n$. The task is to count number of move-to-front operations to arrange items as {1, 2, 3, ... $n$}. The move-to-front operation is to pick any item and place it at first position.\n",
    "\n",
    "Examples :\n",
    "\n",
    "Input: arr = {3, 2, 1, 4}, Output: 2, Why: First, we pull out 2 and places it on top, so the array becomes (2, 3, 1, 4). After that, pull out 1 and becomes (1, 2, 3, 4).\n",
    "\n",
    "Input:  arr = {5, 7, 4, 3, 2, 6, 1}, Output:  6, Why: We pull elements in following order 7, 6, 5, 4, 3 and 2\n",
    "\n",
    "Input: arr = {4, 3, 2, 1}, Output: 3"
   ]
  },
  {
   "cell_type": "code",
   "execution_count": 37,
   "metadata": {},
   "outputs": [],
   "source": [
    "def minMoves(arr):\n",
    "    expected = len(arr)\n",
    "    \n",
    "    for i in range(len(arr) - 1, -1, -1):\n",
    "        if arr[i] == expected:\n",
    "            expected -= 1\n",
    "    return expected"
   ]
  },
  {
   "cell_type": "code",
   "execution_count": 40,
   "metadata": {},
   "outputs": [
    {
     "data": {
      "text/plain": [
       "3"
      ]
     },
     "execution_count": 40,
     "metadata": {},
     "output_type": "execute_result"
    }
   ],
   "source": [
    "minMoves([4,3,2,1])"
   ]
  },
  {
   "cell_type": "code",
   "execution_count": null,
   "metadata": {},
   "outputs": [],
   "source": []
  },
  {
   "cell_type": "code",
   "execution_count": 51,
   "metadata": {},
   "outputs": [
    {
     "name": "stdout",
     "output_type": "stream",
     "text": [
      "adnama"
     ]
    }
   ],
   "source": [
    "def reverse_string(string):\n",
    "    if len(string) == 0:\n",
    "        return 'no string'\n",
    "    #return string[::-1]\n",
    "    # this is for simple reversing,\n",
    "    # follow the steps for recurssively reversing it\n",
    "\n",
    "    temp = string[0]\n",
    "    reverse_string(string[1:])\n",
    "    print(temp, end = '')\n",
    "\n",
    "reverse_string('amanda')"
   ]
  },
  {
   "cell_type": "code",
   "execution_count": 50,
   "metadata": {},
   "outputs": [
    {
     "name": "stdout",
     "output_type": "stream",
     "text": [
      "1\n",
      "1\n",
      "9\n",
      "6\n",
      "7\n"
     ]
    }
   ],
   "source": [
    "def vert(num):\n",
    "    if num < 10:\n",
    "        print(num)\n",
    "    else:\n",
    "        if num//10:\n",
    "            if vert(num//10) is not None:\n",
    "                print(vert(num//10))\n",
    "            print(num % 10)\n",
    "vert(11967)"
   ]
  },
  {
   "cell_type": "markdown",
   "metadata": {},
   "source": [
    "Given a continous stream of characters, find the first non repeating character at any given point.\n",
    "\n",
    "Variations: Find the index of the first non repeating character at any given point, find all unique characters."
   ]
  },
  {
   "cell_type": "code",
   "execution_count": 60,
   "metadata": {},
   "outputs": [],
   "source": [
    "def uniqueChar(string):\n",
    "    d = {}\n",
    "    for x in string:\n",
    "        if x in d:\n",
    "            d[x] += 1\n",
    "        else:\n",
    "            d[x] = 1\n",
    "    \n",
    "    for x in string:\n",
    "        if d[x] == 1:\n",
    "            return x\n",
    "        \n",
    "    # for index do the following\n",
    "    \n",
    "    #index = 0\n",
    "    #for x in string:\n",
    "    #    if d[x] == 1:\n",
    "    #        return x, index\n",
    "    #    else:\n",
    "    #        index += 1\n",
    "    #return -1\n",
    "    \n",
    "    # for returning all non-repeating characters\n",
    "    #return [k for k, v in d.items() if v == 1]"
   ]
  },
  {
   "cell_type": "code",
   "execution_count": 61,
   "metadata": {},
   "outputs": [
    {
     "data": {
      "text/plain": [
       "'d'"
      ]
     },
     "execution_count": 61,
     "metadata": {},
     "output_type": "execute_result"
    }
   ],
   "source": [
    "uniqueChar('aaaaannnbbdhssss')"
   ]
  },
  {
   "cell_type": "code",
   "execution_count": 3,
   "metadata": {},
   "outputs": [],
   "source": [
    "class Node:\n",
    "    def __init__(self, dataval=None):\n",
    "        self.dataval = dataval\n",
    "        self.nextval = None\n",
    "\n",
    "class SLinkedList:\n",
    "    def __init__(self):\n",
    "        self.headval = None\n",
    "        "
   ]
  },
  {
   "cell_type": "code",
   "execution_count": 4,
   "metadata": {},
   "outputs": [],
   "source": [
    "def is_prime(num):\n",
    "    if num < 2:\n",
    "        return False\n",
    "    for i in range(2, int(num**(1/2)) + 1):\n",
    "        if num%i == 0:\n",
    "            return False\n",
    "    return True\n",
    "\n",
    "\n",
    "def remove_node(llist):\n",
    "    temp = llist.headval \n",
    "    \n",
    "    if temp is not None:\n",
    "        if is_prime(temp.dataval):\n",
    "            # if head node is the item that needs to be removed\n",
    "            \n",
    "            llist.headval = temp.nextval\n",
    "            return\n",
    "            temp = None\n",
    "     \n",
    "    while temp is not None:\n",
    "        if is_prime(temp.dataval):\n",
    "            break\n",
    "        prev = temp\n",
    "        temp = temp.nextval\n",
    "\n",
    "    # if the item to be removes is not present in the linked list\n",
    "    if temp == None:\n",
    "        return \n",
    "    \n",
    "    prev.nextval = temp.nextval\n",
    "        \n",
    "    temp = None"
   ]
  },
  {
   "cell_type": "code",
   "execution_count": 9,
   "metadata": {},
   "outputs": [],
   "source": [
    "llist = SLinkedList()\n",
    "llist.headval = Node(1)\n",
    "e2, e3 = Node(2), Node(3)\n",
    "llist.headval.nextval = e2\n",
    "e2.nextval = e3\n",
    "e3.nextval = Node(8)"
   ]
  },
  {
   "cell_type": "code",
   "execution_count": 15,
   "metadata": {},
   "outputs": [],
   "source": [
    "remove_node(llist)"
   ]
  },
  {
   "cell_type": "code",
   "execution_count": 17,
   "metadata": {},
   "outputs": [
    {
     "data": {
      "text/plain": [
       "1"
      ]
     },
     "execution_count": 17,
     "metadata": {},
     "output_type": "execute_result"
    }
   ],
   "source": [
    "llist.headval.dataval"
   ]
  },
  {
   "cell_type": "markdown",
   "metadata": {},
   "source": [
    "### Write a function to find all pairs with equal sums, from an unsorted array with unique numbers.\n",
    "\n",
    "Input: \\[9, 4, 3, 1, 7, 12\\]\n",
    "\n",
    "Output: \\[1, 12\\] & \\[4, 9\\], \\[3, 7\\] & \\[1, 9\\], \\[4, 12\\] & \\[7, 9\\]"
   ]
  },
  {
   "cell_type": "code",
   "execution_count": 11,
   "metadata": {},
   "outputs": [
    {
     "name": "stdout",
     "output_type": "stream",
     "text": [
      "( 11 , 2 ) have sum: 13\n"
     ]
    }
   ],
   "source": [
    "def pairWithEqualSum(A, n):\n",
    "\n",
    "    # Map1 to store pairs and their sum,\n",
    "    # An ordered map is used here to\n",
    "    # avoid duplicate pairs of elements\n",
    "    mp = {}\n",
    "\n",
    "    # Insert all unique pairs and their\n",
    "    # corresponding sum in the map\n",
    "    for i in range(0, n - 1):\n",
    "        for j in range(i + 1, n):\n",
    "            mp[(A[i], A[j])] = A[i] + A[j]\n",
    "\n",
    "    # Second map with key as sum and value\n",
    "    # as list of pairs with that sum\n",
    "    mp2 = {}\n",
    "\n",
    "    # Start iterating first map mp and insert all\n",
    "    # pairs with corresponding sum in second map mp2\n",
    "    for itr in mp:\n",
    "        Sum = mp[itr]\n",
    "        if Sum not in mp2:\n",
    "            mp2[Sum] = []\n",
    "            mp2[Sum].append(itr)\n",
    "\n",
    "    # Traverse the second map mp2, and for\n",
    "    # sum with more than one pair, print\n",
    "    # all pairs and the corresponding sum\n",
    "    for itr in mp2:\n",
    "        if len(mp2[itr]) > 1:\n",
    "            print('Pairs : ', end = ' ')\n",
    "\n",
    "    for i in range(0, len(mp2[itr])):\n",
    "        print('(', mp2[itr][i][0], ',', mp2[itr][i][1], ')', end = ' ')\n",
    "\n",
    "    print('have sum:', itr)\n",
    "\n",
    "    # Driver Code\n",
    "if __name__ == '__main__':\n",
    "\n",
    "    A = [6, 4, 12, 10, 22, 54, 32, 42, 21, 11, 8, 2]\n",
    "    n = len(A)\n",
    "\n",
    "    pairWithEqualSum(A, n)"
   ]
  },
  {
   "cell_type": "markdown",
   "metadata": {},
   "source": [
    "## Google - Decreasing subsequences\n",
    "Given an int array nums of length $n$. Split it into strictly decreasing subsequences. Output the min number of subsequences you can get by splitting.\n",
    "\n",
    "Example 1:\n",
    "\n",
    "Input: \\[5, 2, 4, 3, 1, 6\\]\n",
    "Output: 3\n",
    "\n",
    "Explanation:\n",
    "You can split this array into: \\[5, 2, 1\\], \\[4, 3\\], \\[6\\]. And there are 3 subsequences you get.\n",
    "Or you can split it into \\[5, 4, 3\\], \\[2, 1\\], \\[6\\]. Also 3 subsequences.\n",
    "But \\[5, 4, 3, 2, 1\\], \\[6\\] is not legal because \\[5, 4, 3, 2, 1\\] is not a subsuquence of the original array.\n",
    "\n",
    "Example 2:\n",
    "\n",
    "Input: \\[2, 9, 12, 13, 4, 7, 6, 5, 10\\]\n",
    "Output: 4\n",
    "\n",
    "Explanation: \\[2\\], \\[9, 4\\], \\[12, 10\\], \\[13, 7, 6, 5\\]"
   ]
  },
  {
   "cell_type": "code",
   "execution_count": null,
   "metadata": {},
   "outputs": [],
   "source": [
    "d = {}\n",
    "for i in range(len(arr)):\n",
    "    if "
   ]
  },
  {
   "cell_type": "code",
   "execution_count": null,
   "metadata": {},
   "outputs": [],
   "source": []
  },
  {
   "cell_type": "markdown",
   "metadata": {},
   "source": [
    "___\n",
    "### Part A\n",
    "\n",
    "John likes strings of numbers but he is very particular about the strings he likes. However, his rules are very complicated. He would like to be able to provide you with a rule and a string, and you should help by letting him know if the string satisfies the rule.\n",
    "\n",
    "John's rules has a few symbols.\n",
    "\n",
    "`N`: any number\n",
    "\n",
    "`H`: higher than previous\n",
    "\n",
    "`L`: lower than previous\n",
    "\n",
    "For instance, for the rule `NH` '13' is acceptable but '33' and '31' are not. '020' works for `NHL`.\n",
    "\n",
    "Additionally, combinations of these three characters can be in parentheses. This does not change their meaning. Parentheses won't be empty and will only contain these three characters.\n",
    "\n",
    "After any character or parenthesized group, John can put a `1` or a `9`. `1` means apply 0 or 1 times. `9` means apply 0 or any number of times.\n",
    "\n",
    "For instance, `NNN1` means the string can match `NN` or `NNN`. The rule `N(NN)1` means the string must match `N` or `NNN`. And the rule `N(NH)9` means the string must match `N`, `NNH`, `NNHNH`, `NNHNHNH`, `...`.\n",
    "\n",
    "\n",
    "Write a function `f` to test strings. The function should take two strings, the first is the rule, and the second is the string to test. The rule will be at most 12 characters long. Also, each rule will contain at most 2 numbers (`1` or `9`). Output a boolean indicating whether the string fulfills the rule.\n",
    "\n",
    "For instance, `f('NH9', '1234')` should return `True` and `f('NH9', '1233')` should return `False`.\n",
    "\n",
    "How many strings will fulfill the rule `N(NL)1(NN)1`?\n",
    "\n",
    "Create a rule using as few characters as possible that captures all alternating strings. These are strings where the second digit increases, the third digit decreases, the fourth digit increaes, the fifth decreases, and so on. 8 and 14263 are examples of alternating strings.\n",
    "\n",
    "Can there be an 11-character rule that will match only one string? Yes or no, and **justify the answer** with an example or explanation."
   ]
  },
  {
   "cell_type": "code",
   "execution_count": null,
   "metadata": {},
   "outputs": [],
   "source": [
    "def f(string1, string2):\n",
    "    \n",
    "    if len(string1) > 12:\n",
    "        return False\n",
    "    if len(string2) < len(string1):\n",
    "        return False\n",
    "\n",
    "    def rem_parentheses(string1):\n",
    "        str1 = string1.split('(')[0]\n",
    "        str2 = string1.split('(')[1].split(')')[0]\n",
    "        str3 = str2.join(str2)\n",
    "        return str3\n",
    "\n",
    "    def check_nhl(s1, s2):    \n",
    "        h_index = [pos for pos, char in enumerate(s1) if char == 'H']\n",
    "        l_index = [pos for pos, char in enumerate(s1) if char == 'L']\n",
    "        \n",
    "        if h_index:\n",
    "            for x in h_index:\n",
    "                if s2[x] > s2[x-1]:\n",
    "                    return True\n",
    "                else:\n",
    "                    return False\n",
    "        if l_index:\n",
    "            for x in l_index:\n",
    "                if s2[x] < s2[x-1]:\n",
    "                    return True\n",
    "                else:\n",
    "                    return False\n",
    "                \n",
    "    if '1' not in string1 and '9' not in string1:\n",
    "        if '(' not in string1:\n",
    "            return check_nhl(string1, string2)\n",
    "        else:\n",
    "            rule = rem_parentheses(string1)\n",
    "            return check_nhl(rule, string2)\n",
    "\n",
    "    if '1' in string1:\n",
    "        if '(' not in string1:\n",
    "            rule1 = string1[:string1.index('1')]\n",
    "            rule2 = string1[:string1.index('1')] + string1[string1.index('1') - 1]\n",
    "            return check_nhl(rule1, string2) and check_nhl(rule2, string2)\n",
    "        \n",
    "        else:\n",
    "            rule = rem_parentheses(string1)\n",
    "            return check_nhl(rule, string2)\n",
    "\n",
    "    elif '9' in string1:\n",
    "        if '(' not in string1:\n",
    "            rule1 = string1[:string1.index('9')]\n",
    "            rule2 = string1[:string1.index('9')] + string1[string1.index('9') - 1]\n",
    "            rule3 = string1[:string1.index('9')] + string1[string1.index('9') - 1] + string1[string1.index('9') - 1]\n",
    "            return check_nhl(rule1, string2) and check_nhl(rule2, string2) and check_nhl(rule3, string2)\n",
    "    "
   ]
  },
  {
   "cell_type": "markdown",
   "metadata": {},
   "source": [
    "### Part B\n",
    "\n",
    "We are creating a game, Sweets Crush. The game is played on a 4x4 board where each of the 16 slots contains one specific candy. There are three types of candy, taffies, lollipops, and jelly beans.\n",
    "\n",
    "At the start the board is populated with the candy types T, L, and J. Imagine there is a bank of candies above the board that just repeats this pattern over and over again. Then during each iteration:\n",
    "\n",
    "1. All groups of candies are removed at the same time.\n",
    "    a. Groups are multiple adjacent candies of the same type.\n",
    "    b. A candy is adjacent to the candies above, below, to the right, and to the left.\n",
    "2. Add to the score the product of the sizes of the groups.\n",
    "3. The remaining candies drop down the the board is filled using candies from the bank.\n",
    "\n",
    "The start board will be indicated using a tuple of 4 strings that represent each row.\n",
    "\n",
    "Example input: `('TTLJ', 'LTJL', 'TTLJ', 'LJTJ')`\n",
    "\n",
    "This represents the following board state with copies in the bank:\n",
    "```\n",
    "TTLJ\n",
    "LTJL\n",
    "TTLJ\n",
    "LJTJ\n",
    "```\n",
    "\n",
    "Iteration 1, groups are removed. There is a group of 5 Ts and a group of 2 Js. So the score goes from 0 to 10.\n",
    "```\n",
    "  LJ\n",
    "L JL\n",
    "  L \n",
    "LJT \n",
    "```\n",
    "\n",
    "The remaining candies drop down...\n",
    "```\n",
    "  L \n",
    "  J \n",
    "L LJ\n",
    "LJTL\n",
    "```\n",
    "\n",
    "...and the board is filled with candies from the bank.\n",
    "```\n",
    "TTLJ\n",
    "LTJJ\n",
    "LJLJ\n",
    "LJTL\n",
    "```\n",
    "\n",
    "Iteration 2, there is a group of 3 Ts, a group of 3 Ls, a group of 2 Js, and a group of 4 Js. The product of these sizes is 72 so the score becomes 82. The groups are removed...\n",
    "```\n",
    "  L \n",
    "    \n",
    "  L\n",
    "  TL\n",
    "```\n",
    "\n",
    "After the groups are removed, candies drop down and the spaces are filled using the state of the bank after Iteration 1. \n",
    "```\n",
    "TTTJ\n",
    "LTLJ\n",
    "TJLL\n",
    "LTTL\n",
    "```\n",
    "\n",
    "Write a function `g` to play Sweets Crush. It should take as input a tuple of four 4-character strings and a number of iterations `n`. It should return the total score after applying the number of iterations to the starting board.\n",
    "\n",
    "If at any iteration there are no groups to remove, the final score will just be the current score.\n",
    "\n",
    "`n` will be at least 1 and at most 100.\n",
    "\n",
    "Write a starting board that would score 105 points in the first iteration.\n",
    "\n",
    "In a single iteration, what is the highest possible score?\n",
    "\n",
    "Given an empty board and the location and shape of all groups on the board, would you always be able to add candies to the board to match the provided groups? **Justify the answer.**"
   ]
  },
  {
   "cell_type": "markdown",
   "metadata": {},
   "source": [
    "### Part C\n",
    "\n",
    "Let's say a `tenny` integer is one where the sum of the ith digit from the left and right is 10 for all i. For instance, 24568 is a `tenny` number because 2+8, 4+6, and 5+5 are all 10. The 1st `tenny` number is 5 and the 2nd is 19.\n",
    "\n",
    "Write a function `h` that takes an integer n and returns the nth `tenny` number. For instance, `h(1)` should return 5 and `h(10)` should return 91.\n",
    "\n",
    "`n` will be at least 1 and at most 1 billion.\n",
    "\n",
    "Of all the 9 digit numbers that use each digit 1-9 once, how many are `tenny`?\n",
    "\n",
    "The 1e18th `tenny` number has how many digits?\n",
    "\n",
    "\n",
    "Let A be the set of `tenny` numbers that contain 1000 digits and one or more 5s. Let B be the set of `tenny` numbers with 1001 digits and one or more 5s. Are there more numbers in A, more numbers in B, or the same in both? **Justify the answer.**"
   ]
  },
  {
   "cell_type": "code",
   "execution_count": null,
   "metadata": {},
   "outputs": [],
   "source": [
    "import math\n",
    "\n",
    "def h(n):\n",
    "    \n",
    "    def get_pairs():\n",
    "        list_num = {}\n",
    "        list_num[1] = 5\n",
    "\n",
    "        for i in range(1, 10):  \n",
    "            nth_teeny_num = 19 + (i-1)*9\n",
    "            list_num[i+1] = nth_teeny_num\n",
    "\n",
    "        return list_num\n",
    "\n",
    "    lst_num = get_pairs()\n",
    "\n",
    "    for i in range(2, 11):\n",
    "        nth_teeny_num = int(str(lst_num[i])[0] + str(lst_num[1]) + str(lst_num[i])[1])\n",
    "        lst_num[10+i-1] = nth_teeny_num\n",
    "    \n",
    "    \n",
    "    if n > 19:\n",
    "        num = n//10\n",
    "\n",
    "        for i in range(1, num + 1):\n",
    "            for j in range(1, 11):\n",
    "                nth_teeny_num = int(str(lst_num[i])[0] + str(lst_num[j]) + str(lst_num[i])[1])\n",
    "                lst_num[10*(num) + i - 1] = nth_teeny_num\n",
    "        return lst_num[n]\n",
    "    \n",
    "    return lst_num[n]"
   ]
  }
 ],
 "metadata": {
  "kernelspec": {
   "display_name": "env",
   "language": "python",
   "name": "env"
  },
  "language_info": {
   "codemirror_mode": {
    "name": "ipython",
    "version": 3
   },
   "file_extension": ".py",
   "mimetype": "text/x-python",
   "name": "python",
   "nbconvert_exporter": "python",
   "pygments_lexer": "ipython3",
   "version": "3.7.1"
  }
 },
 "nbformat": 4,
 "nbformat_minor": 2
}
