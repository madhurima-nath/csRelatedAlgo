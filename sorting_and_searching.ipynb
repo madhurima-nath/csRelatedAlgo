{
 "cells": [
  {
   "cell_type": "markdown",
   "metadata": {},
   "source": [
    "# 5. Searching and Sorting.\n",
    "[SOURCE](http://interactivepython.org/runestone/static/pythonds/SortSearch/toctree.html)"
   ]
  },
  {
   "cell_type": "markdown",
   "metadata": {},
   "source": [
    "## Searching\n",
    "\n",
    "Algorithmic process of finding a particular item in a collection of items."
   ]
  },
  {
   "cell_type": "code",
   "execution_count": 1,
   "metadata": {},
   "outputs": [
    {
     "data": {
      "text/plain": [
       "False"
      ]
     },
     "execution_count": 1,
     "metadata": {},
     "output_type": "execute_result"
    }
   ],
   "source": [
    "15 in [3,5,2,4,1]"
   ]
  },
  {
   "cell_type": "code",
   "execution_count": 2,
   "metadata": {},
   "outputs": [
    {
     "data": {
      "text/plain": [
       "True"
      ]
     },
     "execution_count": 2,
     "metadata": {},
     "output_type": "execute_result"
    }
   ],
   "source": [
    "3 in [3,5,2,4,1]"
   ]
  },
  {
   "cell_type": "markdown",
   "metadata": {},
   "source": [
    "### Sequential Search.\n",
    "\n",
    "Data items stored in a collection (like a list) have linear or sequential relationship because they are stored relative to each other -- with relative positions being the index. Indices are ordered, so they can be visited in a sequence."
   ]
  },
  {
   "cell_type": "code",
   "execution_count": 3,
   "metadata": {},
   "outputs": [],
   "source": [
    "def sequentialSearch(alist, item):\n",
    "    pos = 0\n",
    "    found = False\n",
    "\n",
    "    while pos < len(alist) and not found:\n",
    "        if alist[pos] == item:\n",
    "            found = True\n",
    "        else:\n",
    "            pos = pos+1\n",
    "\n",
    "    return found"
   ]
  },
  {
   "cell_type": "code",
   "execution_count": 4,
   "metadata": {},
   "outputs": [],
   "source": [
    "testlist = [1, 2, 32, 8, 17, 19, 42, 13, 0]"
   ]
  },
  {
   "cell_type": "code",
   "execution_count": 5,
   "metadata": {},
   "outputs": [
    {
     "name": "stdout",
     "output_type": "stream",
     "text": [
      "False\n"
     ]
    }
   ],
   "source": [
    "print(sequentialSearch(testlist, 3))"
   ]
  },
  {
   "cell_type": "code",
   "execution_count": 6,
   "metadata": {},
   "outputs": [
    {
     "name": "stdout",
     "output_type": "stream",
     "text": [
      "True\n"
     ]
    }
   ],
   "source": [
    "print(sequentialSearch(testlist, 13))"
   ]
  },
  {
   "cell_type": "markdown",
   "metadata": {},
   "source": [
    "#### Analysis of sequential search.\n",
    "\n",
    "**Basic unit of computation:** What is the common step that must be repeated to solve the problem?\n",
    "\n",
    "For search, it is number of comparisons to perform. The items are placed randomely in the list so it can be in any position. If not in the list, we have to check all `n` items.\n",
    "\n",
    "| Case | Best Case | Worst Case | Average Case |\n",
    "| --- | --- | --- | --- |\n",
    "| item is present | 1 | n | n/2 |\n",
    "| item not present | n | n | n|\n",
    "\n",
    "But as `n` gets large, the coefficient does not matter. The complexity of this search is $O(n)$"
   ]
  },
  {
   "cell_type": "markdown",
   "metadata": {},
   "source": [
    "### Ordered Sequential Search.\n",
    "\n",
    "List is constructed in ascending order, from low to high. The case analysis if the `item is present` is the same as above. If `item not present` and we are working sequentially, the second we get to a number that is higher than ours, we know it doesn't exist."
   ]
  },
  {
   "cell_type": "code",
   "execution_count": 7,
   "metadata": {},
   "outputs": [],
   "source": [
    "def orderedSequentialSearch(alist, item):\n",
    "    pos = 0\n",
    "    found = False\n",
    "    stop = False\n",
    "    while pos < len(alist) and not found and not stop:\n",
    "        if alist[pos] == item:\n",
    "            found = True\n",
    "        else:\n",
    "            if alist[pos] > item:\n",
    "                stop = True\n",
    "            else:\n",
    "                pos = pos+1\n",
    "    return found"
   ]
  },
  {
   "cell_type": "code",
   "execution_count": 8,
   "metadata": {},
   "outputs": [],
   "source": [
    "testlist = [0, 1, 2, 8, 13, 17, 19, 32, 42,]"
   ]
  },
  {
   "cell_type": "code",
   "execution_count": 9,
   "metadata": {},
   "outputs": [
    {
     "name": "stdout",
     "output_type": "stream",
     "text": [
      "False\n"
     ]
    }
   ],
   "source": [
    "print(orderedSequentialSearch(testlist, 3))"
   ]
  },
  {
   "cell_type": "code",
   "execution_count": 10,
   "metadata": {},
   "outputs": [
    {
     "name": "stdout",
     "output_type": "stream",
     "text": [
      "True\n"
     ]
    }
   ],
   "source": [
    "print(orderedSequentialSearch(testlist, 13))"
   ]
  },
  {
   "cell_type": "markdown",
   "metadata": {},
   "source": [
    "#### Analysis of ordered sequential search.\n",
    "\n",
    "| Case | Best Case | Worst Case | Average Case |\n",
    "| --- | --- | --- | --- |\n",
    "| item is present | 1 | n | n/2 |\n",
    "| item not present | 1 | n | n/2|\n",
    "\n",
    "But as `n` gets large, the coefficient does not matter. The complexity of this search is $O(n)$"
   ]
  },
  {
   "cell_type": "markdown",
   "metadata": {},
   "source": [
    "### Binary Search.\n",
    "Uses divide and conquer strategy. Searching an ordered list iteratively from the middle element. Compare against element we are looking for."
   ]
  },
  {
   "cell_type": "code",
   "execution_count": 11,
   "metadata": {},
   "outputs": [],
   "source": [
    "def binarySearch(alist, item):\n",
    "    first = 0\n",
    "    last = len(alist)-1\n",
    "    found = False\n",
    "    \n",
    "    while first<=last and not found:\n",
    "        midpoint = (first + last)//2\n",
    "        if alist[midpoint] == item:\n",
    "            found = True\n",
    "        else:\n",
    "            if item < alist[midpoint]:\n",
    "                last = midpoint-1\n",
    "            else:\n",
    "                first = midpoint+1\n",
    "\n",
    "    return found"
   ]
  },
  {
   "cell_type": "code",
   "execution_count": 12,
   "metadata": {},
   "outputs": [],
   "source": [
    "testlist = [0, 1, 2, 8, 13, 17, 19, 32, 42,]"
   ]
  },
  {
   "cell_type": "code",
   "execution_count": 13,
   "metadata": {},
   "outputs": [
    {
     "name": "stdout",
     "output_type": "stream",
     "text": [
      "False\n"
     ]
    }
   ],
   "source": [
    "print(binarySearch(testlist, 3))"
   ]
  },
  {
   "cell_type": "code",
   "execution_count": 14,
   "metadata": {},
   "outputs": [
    {
     "name": "stdout",
     "output_type": "stream",
     "text": [
      "True\n"
     ]
    }
   ],
   "source": [
    "print(binarySearch(testlist, 13))"
   ]
  },
  {
   "cell_type": "markdown",
   "metadata": {},
   "source": [
    "### Binary Search Recursive."
   ]
  },
  {
   "cell_type": "code",
   "execution_count": 15,
   "metadata": {},
   "outputs": [],
   "source": [
    "def binary_search_recursive(alist, item):\n",
    "\n",
    "    if len(alist) == 0:\n",
    "        return False\n",
    "    \n",
    "    else:\n",
    "        midpoint = len(alist) // 2\n",
    "\n",
    "        if alist[midpoint] == item:\n",
    "            return True\n",
    "        \n",
    "        else:\n",
    "            if item < alist[midpoint]:\n",
    "                return binary_search_recursive(alist[:midpoint], item)\n",
    "\n",
    "            else:\n",
    "                return binary_search_recursive(alist[midpoint+1:], item)"
   ]
  },
  {
   "cell_type": "code",
   "execution_count": 16,
   "metadata": {},
   "outputs": [],
   "source": [
    "testlist = [0, 1, 2, 8, 13, 17, 19, 32, 42,]"
   ]
  },
  {
   "cell_type": "code",
   "execution_count": 17,
   "metadata": {},
   "outputs": [
    {
     "name": "stdout",
     "output_type": "stream",
     "text": [
      "False\n"
     ]
    }
   ],
   "source": [
    "print(binary_search_recursive(testlist, 3))"
   ]
  },
  {
   "cell_type": "code",
   "execution_count": 18,
   "metadata": {},
   "outputs": [
    {
     "name": "stdout",
     "output_type": "stream",
     "text": [
      "True\n"
     ]
    }
   ],
   "source": [
    "print(binary_search_recursive(testlist, 13))"
   ]
  },
  {
   "cell_type": "markdown",
   "metadata": {},
   "source": [
    "#### Analysis of Binary search.\n",
    "\n",
    "Each comparison elimnates half of remaining items. \n",
    "\n",
    "| Comparisons | Approx # of items left |\n",
    "| --- | --- | \n",
    "| 1 | $n/2$ |\n",
    "| 2 | $n/4$ |\n",
    "| 3 | $n/8$ |\n",
    "| $...$ | $...$ |\n",
    "| i | $n/2^{i}$ |\n",
    "\n",
    "We need to get to the point where the # of items is only 1; That is the number of comparisons $i$ is given by solving $\\frac{n}{2^{i}}=1$ so $i = \\log{n}$. \n",
    "\n",
    "The complexity of this search is $O\\log({n})$"
   ]
  },
  {
   "cell_type": "markdown",
   "metadata": {},
   "source": [
    "## Hashing.\n",
    "\n",
    "A data structure that can be searched in $O(1)$ time by knowing a little bit more about where the item might be - then we only need to make 1 comparison.\n",
    "\n",
    "**Hash Table:** Collection of items store in a way to find them later. Each position is a **slot** can hold an item and is named by an integer value starting at 0.\n",
    "\n",
    "**Hash Function:** Mapping between an item and the slot where it belongs in the hash table. \n",
    "\n",
    "**Ex. Remainder method hash function:** For item $j$ in `n=len(range)`,`h(j) = j % n`. Can imagine that there will be overlaps (collisions).\n",
    "\n",
    "A perfect hash function maps each item to a unique slot. One way to have a perfect hash is to have the size of the hash table able to accomodate every value in the range, but this would get too large.\n",
    "\n",
    "Goal: \n",
    "- minimize number of collisions\n",
    "- easy to compute\n",
    "- evenly distribute items in the hash table\n",
    "\n",
    "**Load Factor:** $\\lambda = \\frac{num items}{table size}$\n",
    "\n",
    "**Ex. Folding method hash function:** split item into pieces of equal size, add the peices together. If hash table has `n` slots then divide the summed value by `n` and return remainder. \n",
    "\n",
    "**Ex. Mid-square method hash function:** Square the item and extract some portion of the resulting digits. (eg. Given 44, calculate 44^2 = 1936, extract middle digits 93, and perform remainder step 93 % 11)"
   ]
  },
  {
   "cell_type": "markdown",
   "metadata": {},
   "source": [
    "### Collisions Resolution or Rehashing.\n",
    "\n",
    "Systematic way to deal with collisions in a hash table.\n",
    "\n",
    "**Open addressing:** When we have a collision we move in a sequential manner through to slots until we encounter the first slot that is empty. \n",
    "\n",
    "**Linear Probing** is visiting each slot one at a time. Clustering is a disadvantage to linear probing because if there are a lot of collisions at the same hash value, many surrounding slots will be filled by the linear probing resolution. Can **skip** by multiples of a constant instead of by one. \n",
    "\n",
    "**Quadratic Probing** Uses a skip of successive perfect squares.\n",
    "\n",
    "**Chaining:** Allows each slot to hold a reference to a collection of items.  AS more items hash to same location, difficulty of search increases. "
   ]
  },
  {
   "cell_type": "markdown",
   "metadata": {},
   "source": [
    "## `Map` Data type.\n",
    "\n",
    "Dictionary is a data structure where we store key-data pairs, where we use key to lookup associated data value. Often referred to as a **map**."
   ]
  },
  {
   "cell_type": "code",
   "execution_count": 26,
   "metadata": {},
   "outputs": [],
   "source": [
    "class HashTable:\n",
    "    def __init__(self):\n",
    "        self.size = 11\n",
    "        self.slots = [None] * self.size\n",
    "        self.data = [None] * self.size\n",
    "        \n",
    "        \n",
    "    def put(self,key,data):\n",
    "        hashvalue = self.hashfunction(key,len(self.slots))\n",
    "\n",
    "        if self.slots[hashvalue] == None:\n",
    "            self.slots[hashvalue] = key\n",
    "            self.data[hashvalue] = data\n",
    "        else:\n",
    "            if self.slots[hashvalue] == key:\n",
    "                self.data[hashvalue] = data  #replace\n",
    "            else:\n",
    "                nextslot = self.rehash(hashvalue,len(self.slots))\n",
    "                while self.slots[nextslot] != None and self.slots[nextslot] != key:\n",
    "                    nextslot = self.rehash(nextslot,len(self.slots))\n",
    "\n",
    "                if self.slots[nextslot] == None:\n",
    "                    self.slots[nextslot]=key\n",
    "                    self.data[nextslot]=data\n",
    "                else:\n",
    "                    self.data[nextslot] = data #replace\n",
    "\n",
    "    def hashfunction(self,key,size):\n",
    "        return key%size\n",
    "\n",
    "    def rehash(self,oldhash,size):\n",
    "        return (oldhash+1)%size\n",
    "    \n",
    "    def get(self,key):\n",
    "        startslot = self.hashfunction(key,len(self.slots))\n",
    "\n",
    "        data = None\n",
    "        stop = False\n",
    "        found = False\n",
    "        position = startslot\n",
    "        while self.slots[position] != None and not found and not stop:\n",
    "            if self.slots[position] == key:\n",
    "                found = True\n",
    "                data = self.data[position]\n",
    "            else:\n",
    "                position=self.rehash(position,len(self.slots))\n",
    "                if position == startslot:\n",
    "                    stop = True\n",
    "        return data\n",
    "\n",
    "    def __getitem__(self,key):\n",
    "        return self.get(key)\n",
    "\n",
    "    def __setitem__(self,key,data):\n",
    "        self.put(key,data)"
   ]
  },
  {
   "cell_type": "code",
   "execution_count": 27,
   "metadata": {},
   "outputs": [],
   "source": [
    "H = HashTable()\n",
    "H[54]=\"cat\"\n",
    "H[26]=\"dog\"\n",
    "H[93]=\"lion\"\n",
    "H[17]=\"tiger\"\n",
    "H[77]=\"bird\"\n",
    "H[31]=\"cow\"\n",
    "H[44]=\"goat\"\n",
    "H[55]=\"pig\"\n",
    "H[20]=\"chicken\""
   ]
  },
  {
   "cell_type": "code",
   "execution_count": 28,
   "metadata": {},
   "outputs": [
    {
     "data": {
      "text/plain": [
       "[77, 44, 55, 20, 26, 93, 17, None, None, 31, 54]"
      ]
     },
     "execution_count": 28,
     "metadata": {},
     "output_type": "execute_result"
    }
   ],
   "source": [
    "H.slots"
   ]
  },
  {
   "cell_type": "code",
   "execution_count": 29,
   "metadata": {},
   "outputs": [
    {
     "data": {
      "text/plain": [
       "['bird',\n",
       " 'goat',\n",
       " 'pig',\n",
       " 'chicken',\n",
       " 'dog',\n",
       " 'lion',\n",
       " 'tiger',\n",
       " None,\n",
       " None,\n",
       " 'cow',\n",
       " 'cat']"
      ]
     },
     "execution_count": 29,
     "metadata": {},
     "output_type": "execute_result"
    }
   ],
   "source": [
    "H.data"
   ]
  },
  {
   "cell_type": "code",
   "execution_count": 30,
   "metadata": {},
   "outputs": [
    {
     "data": {
      "text/plain": [
       "'chicken'"
      ]
     },
     "execution_count": 30,
     "metadata": {},
     "output_type": "execute_result"
    }
   ],
   "source": [
    "H[20]"
   ]
  },
  {
   "cell_type": "code",
   "execution_count": 31,
   "metadata": {},
   "outputs": [
    {
     "data": {
      "text/plain": [
       "'tiger'"
      ]
     },
     "execution_count": 31,
     "metadata": {},
     "output_type": "execute_result"
    }
   ],
   "source": [
    "H[17]"
   ]
  },
  {
   "cell_type": "code",
   "execution_count": 32,
   "metadata": {},
   "outputs": [],
   "source": [
    "H[20]='duck'"
   ]
  },
  {
   "cell_type": "code",
   "execution_count": 33,
   "metadata": {},
   "outputs": [
    {
     "data": {
      "text/plain": [
       "'duck'"
      ]
     },
     "execution_count": 33,
     "metadata": {},
     "output_type": "execute_result"
    }
   ],
   "source": [
    "H[20]"
   ]
  },
  {
   "cell_type": "code",
   "execution_count": 34,
   "metadata": {},
   "outputs": [
    {
     "data": {
      "text/plain": [
       "['bird',\n",
       " 'goat',\n",
       " 'pig',\n",
       " 'duck',\n",
       " 'dog',\n",
       " 'lion',\n",
       " 'tiger',\n",
       " None,\n",
       " None,\n",
       " 'cow',\n",
       " 'cat']"
      ]
     },
     "execution_count": 34,
     "metadata": {},
     "output_type": "execute_result"
    }
   ],
   "source": [
    "H.data"
   ]
  },
  {
   "cell_type": "code",
   "execution_count": 35,
   "metadata": {},
   "outputs": [
    {
     "name": "stdout",
     "output_type": "stream",
     "text": [
      "None\n"
     ]
    }
   ],
   "source": [
    "print(H[99])"
   ]
  },
  {
   "cell_type": "markdown",
   "metadata": {},
   "source": [
    "#### Analysis of Hashing.\n",
    "\n",
    "Without collisions hashing would provide a $O(1)$ search complexity. Complete analysis of hashing is difficult, but we can make some approximations.\n",
    "\n",
    "If load factor $\\lambda$ is small, there is lower chance of collisions BUT if $\\lambda$ is large the table is filling up and there are more collisions. \n",
    "\n",
    "Consider open addressing and linear probing:\n",
    "- if successful avg num of comparisons is $\\frac{1}{2} \\left(1 + \\frac{1}{1-\\lambda} \\right)$\n",
    "- if unsuccessful avg num of comparisons is $\\frac{1}{2} \\left(1 + \\left( \\frac{1}{1-\\lambda} \\right)^{2} \\right)$\n",
    "\n",
    "Consider chaining: \n",
    "- if successful avg num of comparisons is $1 + \\lambda /2$\n",
    "- if unsuccessful avg num of comparisons is $\\lambda$"
   ]
  },
  {
   "cell_type": "markdown",
   "metadata": {},
   "source": [
    "## Sorting.\n",
    "Placing elements from a collection in some sort of order."
   ]
  },
  {
   "cell_type": "markdown",
   "metadata": {},
   "source": [
    "### Bubble Sort.\n",
    "Makes multiple passes through a list comparing adjacent items and exchanges those that are out of order.\n",
    "\n",
    "Consider `n` items in list, there are `n-1` comparisons on first pass and the `nth` value is in its last place. On second pass there are `n-1` items and `n-2` comparisons. "
   ]
  },
  {
   "cell_type": "code",
   "execution_count": 36,
   "metadata": {},
   "outputs": [],
   "source": [
    "def bubbleSort(alist):\n",
    "    for passnum in range(len(alist)-1,0,-1):\n",
    "        for i in range(passnum):\n",
    "            if alist[i]>alist[i+1]:\n",
    "                temp = alist[i]\n",
    "                alist[i] = alist[i+1]\n",
    "                alist[i+1] = temp"
   ]
  },
  {
   "cell_type": "code",
   "execution_count": 37,
   "metadata": {},
   "outputs": [],
   "source": [
    "alist = [54,26,93,17,77,31,44,55,20]"
   ]
  },
  {
   "cell_type": "code",
   "execution_count": 38,
   "metadata": {},
   "outputs": [
    {
     "name": "stdout",
     "output_type": "stream",
     "text": [
      "[17, 20, 26, 31, 44, 54, 55, 77, 93]\n"
     ]
    }
   ],
   "source": [
    "bubbleSort(alist)\n",
    "print(alist)"
   ]
  },
  {
   "cell_type": "markdown",
   "metadata": {},
   "source": [
    "#### Analysis of Bubble sort.\n",
    "\n",
    "There will alwys be `n-1` passes to sort list of size `n`.\n",
    "\n",
    "| Pass | Comparisons |\n",
    "| --- | --- | \n",
    "| 1 | $n-1$ |\n",
    "| 2 | $n-2$ |\n",
    "| 3 | $n-3$ |\n",
    "| $...$ | $...$ |\n",
    "| n-1 | $1$ |\n",
    "\n",
    "**Explain this comparison**\n",
    "\n",
    "The complexity of bubble sort is $O(n^{2})$. It is often considered the most inefficient sorting method.\n",
    "\n",
    "Can modify bubble sort by stopping early if the list becomes sorted. "
   ]
  },
  {
   "cell_type": "code",
   "execution_count": 39,
   "metadata": {},
   "outputs": [],
   "source": [
    "def shortBubbleSort(alist):\n",
    "    exchanges = True\n",
    "    passnum = len(alist)-1\n",
    "    while passnum > 0 and exchanges:\n",
    "        exchanges = False\n",
    "        for i in range(passnum):\n",
    "            if alist[i]>alist[i+1]:\n",
    "                exchanges = True\n",
    "                temp = alist[i]\n",
    "                alist[i] = alist[i+1]\n",
    "                alist[i+1] = temp\n",
    "        passnum = passnum-1"
   ]
  },
  {
   "cell_type": "code",
   "execution_count": 40,
   "metadata": {},
   "outputs": [],
   "source": [
    "alist=[20,30,40,90,50,60,70,80,100,110]"
   ]
  },
  {
   "cell_type": "code",
   "execution_count": 41,
   "metadata": {},
   "outputs": [
    {
     "name": "stdout",
     "output_type": "stream",
     "text": [
      "[20, 30, 40, 50, 60, 70, 80, 90, 100, 110]\n"
     ]
    }
   ],
   "source": [
    "shortBubbleSort(alist)\n",
    "print(alist)"
   ]
  },
  {
   "cell_type": "markdown",
   "metadata": {},
   "source": [
    "### Selection Sort.\n",
    "Selection sort makes only one exchange per pass. Looks for largest value and places in proper location. \n",
    "\n",
    "Requires `n-1` passes to sort `n` items."
   ]
  },
  {
   "cell_type": "code",
   "execution_count": 42,
   "metadata": {},
   "outputs": [],
   "source": [
    "def selectionSort(alist):\n",
    "    for fillslot in range(len(alist)-1,0,-1):\n",
    "        positionOfMax=0\n",
    "        for location in range(1,fillslot+1):\n",
    "            if alist[location]>alist[positionOfMax]:\n",
    "                positionOfMax = location\n",
    "\n",
    "        temp = alist[fillslot]\n",
    "        alist[fillslot] = alist[positionOfMax]\n",
    "        alist[positionOfMax] = temp"
   ]
  },
  {
   "cell_type": "code",
   "execution_count": 43,
   "metadata": {},
   "outputs": [],
   "source": [
    "alist = [54,26,93,17,77,31,44,55,20]"
   ]
  },
  {
   "cell_type": "code",
   "execution_count": 44,
   "metadata": {},
   "outputs": [
    {
     "name": "stdout",
     "output_type": "stream",
     "text": [
      "[17, 20, 26, 31, 44, 54, 55, 77, 93]\n"
     ]
    }
   ],
   "source": [
    "selectionSort(alist)\n",
    "print(alist)"
   ]
  },
  {
   "cell_type": "markdown",
   "metadata": {},
   "source": [
    "#### Analysis of Selection sort.\n",
    "\n",
    "The complexity of selection sort is $O(n^{2})$ but because of the reduction in number of exchanges, it executes faster."
   ]
  },
  {
   "cell_type": "markdown",
   "metadata": {},
   "source": [
    "### Insertion Sort.\n",
    "Maintains a sorted sublist and new items are inserted into the sublist. There are `n-1` passes to sort `n` items. The max number of comparison is the sum of the first `n-1` integers so the complexity is $O(n^{2})$. \n",
    "\n",
    "A shifting operation requires approximately a third of the processing work of an exchange since only one assignment is performed. Insertion short has good performance."
   ]
  },
  {
   "cell_type": "code",
   "execution_count": 45,
   "metadata": {},
   "outputs": [],
   "source": [
    "def insertionSort(alist):\n",
    "\n",
    "    for index in range(1,len(alist)):\n",
    "\n",
    "        currentvalue = alist[index]\n",
    "        position = index\n",
    "\n",
    "        while position>0 and alist[position-1]>currentvalue:\n",
    "            alist[position]=alist[position-1]\n",
    "            position = position-1\n",
    "\n",
    "    alist[position]=currentvalue"
   ]
  },
  {
   "cell_type": "code",
   "execution_count": 46,
   "metadata": {},
   "outputs": [],
   "source": [
    "alist = [54,26,93,17,77,31,44,55,20]"
   ]
  },
  {
   "cell_type": "code",
   "execution_count": 47,
   "metadata": {},
   "outputs": [
    {
     "name": "stdout",
     "output_type": "stream",
     "text": [
      "[20, 54, 54, 54, 54, 54, 93, 93, 93]\n"
     ]
    }
   ],
   "source": [
    "insertionSort(alist)\n",
    "print(alist)"
   ]
  },
  {
   "cell_type": "markdown",
   "metadata": {},
   "source": [
    "### Shell Sort or \"diminishing incrament sort\".\n",
    "Improves insertion sort by breaking original list into smaller sublists, each sorted using insertion sort.\n",
    "\n",
    "Shell sort uses and incrament `i` called the **gap** to create a sublist by choosing all items `i` apart. The sublists are sorted by **insertion sort** and put together. Then there are less shifting operations necessary to put in final order. "
   ]
  },
  {
   "cell_type": "code",
   "execution_count": 48,
   "metadata": {},
   "outputs": [],
   "source": [
    "def shellSort(alist):\n",
    "    sublistcount = len(alist)//2\n",
    "    while sublistcount > 0:\n",
    "\n",
    "        for startposition in range(sublistcount):\n",
    "            gapInsertionSort(alist,startposition,sublistcount)\n",
    "\n",
    "        print(\"After increments of size\",sublistcount, \"The list is\",alist)\n",
    "\n",
    "        sublistcount = sublistcount // 2\n",
    "\n",
    "\n",
    "def gapInsertionSort(alist,start,gap):\n",
    "    for i in range(start+gap,len(alist),gap):\n",
    "\n",
    "        currentvalue = alist[i]\n",
    "        position = i\n",
    "\n",
    "        while position>=gap and alist[position-gap]>currentvalue:\n",
    "            alist[position]=alist[position-gap]\n",
    "            position = position-gap\n",
    "\n",
    "        alist[position]=currentvalue"
   ]
  },
  {
   "cell_type": "code",
   "execution_count": 49,
   "metadata": {},
   "outputs": [],
   "source": [
    "alist = [54,26,93,17,77,31,44,55,20]"
   ]
  },
  {
   "cell_type": "code",
   "execution_count": 50,
   "metadata": {},
   "outputs": [
    {
     "name": "stdout",
     "output_type": "stream",
     "text": [
      "After increments of size 4 The list is [20, 26, 44, 17, 54, 31, 93, 55, 77]\n",
      "After increments of size 2 The list is [20, 17, 44, 26, 54, 31, 77, 55, 93]\n",
      "After increments of size 1 The list is [17, 20, 26, 31, 44, 54, 55, 77, 93]\n",
      "[17, 20, 26, 31, 44, 54, 55, 77, 93]\n"
     ]
    }
   ],
   "source": [
    "shellSort(alist)\n",
    "print(alist)"
   ]
  },
  {
   "cell_type": "markdown",
   "metadata": {},
   "source": [
    "#### Analysis of Shell Sort. \n",
    "The final insertion sort does not need to do many comparisons since the list has been pre-sorted by the incramental insertion sort. The complexity of the shell sort falls between $O(n)$ and $O(n^{2})$ but it depends on the incrament. "
   ]
  },
  {
   "cell_type": "markdown",
   "metadata": {},
   "source": [
    "### Merge Sort.\n",
    "Recursive algorithm that continually splits list in half. An empty list or has one item it is sorted. If list has more than one item, split recursively and invoke merge sort on both halves. Once two halves are sorted, they are **merged**. Merging involves taking two smaller sorted lists and combining them together in a single, sorted, new list. "
   ]
  },
  {
   "cell_type": "code",
   "execution_count": 51,
   "metadata": {},
   "outputs": [],
   "source": [
    "def mergeSort(alist):\n",
    "    print(\"Splitting \",alist)\n",
    "    if len(alist)>1:\n",
    "        mid = len(alist)//2\n",
    "        lefthalf = alist[:mid]\n",
    "        righthalf = alist[mid:]\n",
    "\n",
    "        mergeSort(lefthalf)\n",
    "        mergeSort(righthalf)\n",
    "\n",
    "        i=0\n",
    "        j=0\n",
    "        k=0\n",
    "        while i < len(lefthalf) and j < len(righthalf):\n",
    "            if lefthalf[i] < righthalf[j]:\n",
    "                alist[k]=lefthalf[i]\n",
    "                i=i+1\n",
    "            else:\n",
    "                alist[k]=righthalf[j]\n",
    "                j=j+1\n",
    "            k=k+1\n",
    "\n",
    "        while i < len(lefthalf):\n",
    "            alist[k]=lefthalf[i]\n",
    "            i=i+1\n",
    "            k=k+1\n",
    "\n",
    "        while j < len(righthalf):\n",
    "            alist[k]=righthalf[j]\n",
    "            j=j+1\n",
    "            k=k+1\n",
    "    print(\"Merging \",alist)"
   ]
  },
  {
   "cell_type": "code",
   "execution_count": 52,
   "metadata": {},
   "outputs": [],
   "source": [
    "alist = [54,26,93,17,77,31,44,55,20]"
   ]
  },
  {
   "cell_type": "code",
   "execution_count": 53,
   "metadata": {},
   "outputs": [
    {
     "name": "stdout",
     "output_type": "stream",
     "text": [
      "Splitting  [54, 26, 93, 17, 77, 31, 44, 55, 20]\n",
      "Splitting  [54, 26, 93, 17]\n",
      "Splitting  [54, 26]\n",
      "Splitting  [54]\n",
      "Merging  [54]\n",
      "Splitting  [26]\n",
      "Merging  [26]\n",
      "Merging  [26, 54]\n",
      "Splitting  [93, 17]\n",
      "Splitting  [93]\n",
      "Merging  [93]\n",
      "Splitting  [17]\n",
      "Merging  [17]\n",
      "Merging  [17, 93]\n",
      "Merging  [17, 26, 54, 93]\n",
      "Splitting  [77, 31, 44, 55, 20]\n",
      "Splitting  [77, 31]\n",
      "Splitting  [77]\n",
      "Merging  [77]\n",
      "Splitting  [31]\n",
      "Merging  [31]\n",
      "Merging  [31, 77]\n",
      "Splitting  [44, 55, 20]\n",
      "Splitting  [44]\n",
      "Merging  [44]\n",
      "Splitting  [55, 20]\n",
      "Splitting  [55]\n",
      "Merging  [55]\n",
      "Splitting  [20]\n",
      "Merging  [20]\n",
      "Merging  [20, 55]\n",
      "Merging  [20, 44, 55]\n",
      "Merging  [20, 31, 44, 55, 77]\n",
      "Merging  [17, 20, 26, 31, 44, 54, 55, 77, 93]\n",
      "[17, 20, 26, 31, 44, 54, 55, 77, 93]\n"
     ]
    }
   ],
   "source": [
    "mergeSort(alist)\n",
    "print(alist)"
   ]
  },
  {
   "cell_type": "markdown",
   "metadata": {},
   "source": [
    "#### Analysis of Merge Sort. \n",
    "First process is split list into halves. WE can divide a list in half $\\log{(n)}$ times where $n$ is length of list. Second process is merge. Each item will be processed and placed on sorted list. Requires $n$ operations. THe complexity of merge sort is $O(n\\log{(n)})$. \n",
    "\n",
    "The mergesort requires extra space because the two halves are held separately. "
   ]
  },
  {
   "cell_type": "markdown",
   "metadata": {},
   "source": [
    "### Quick Sort.\n",
    "Uses divide and conquer of merge sort without additional storage. Trade-off is list might not be divided in half and the performance is diminished.\n",
    "\n",
    "First selects a value called the **pivot value**. Role of hte pivot value is to assist with splitting the list. Actual position of pivot value in final list is called the **split point**."
   ]
  },
  {
   "cell_type": "code",
   "execution_count": 54,
   "metadata": {},
   "outputs": [],
   "source": [
    "def quickSort(alist):\n",
    "    quickSortHelper(alist,0,len(alist)-1)\n",
    "\n",
    "\n",
    "def quickSortHelper(alist,first,last):\n",
    "\n",
    "    if first<last:\n",
    "\n",
    "        splitpoint = partition(alist,first,last)\n",
    "\n",
    "        quickSortHelper(alist,first,splitpoint-1)\n",
    "        quickSortHelper(alist,splitpoint+1,last)\n",
    "\n",
    "\n",
    "def partition(alist,first,last):\n",
    "    pivotvalue = alist[first]\n",
    "\n",
    "    leftmark = first+1\n",
    "    rightmark = last\n",
    "\n",
    "    done = False\n",
    "    while not done:\n",
    "\n",
    "        while leftmark <= rightmark and alist[leftmark] <= pivotvalue:\n",
    "            leftmark = leftmark + 1\n",
    "\n",
    "        while alist[rightmark] >= pivotvalue and rightmark >= leftmark:\n",
    "            rightmark = rightmark -1\n",
    "\n",
    "        if rightmark < leftmark:\n",
    "            done = True\n",
    "        else:\n",
    "            temp = alist[leftmark]\n",
    "            alist[leftmark] = alist[rightmark]\n",
    "            alist[rightmark] = temp\n",
    "\n",
    "    temp = alist[first]\n",
    "    alist[first] = alist[rightmark]\n",
    "    alist[rightmark] = temp\n",
    "\n",
    "    return rightmark\n"
   ]
  },
  {
   "cell_type": "code",
   "execution_count": 55,
   "metadata": {},
   "outputs": [],
   "source": [
    "alist = [54,26,93,17,77,31,44,55,20]"
   ]
  },
  {
   "cell_type": "code",
   "execution_count": 56,
   "metadata": {},
   "outputs": [
    {
     "name": "stdout",
     "output_type": "stream",
     "text": [
      "[17, 20, 26, 31, 44, 54, 55, 77, 93]\n"
     ]
    }
   ],
   "source": [
    "quickSort(alist)\n",
    "print(alist)"
   ]
  },
  {
   "cell_type": "markdown",
   "metadata": {},
   "source": [
    "#### Analysis of merge sort.\n",
    "\n",
    "A quick sort is $O(n\\log{(n)}$, but may degrade to $O(n^{2})$ if the split points are not near the middle of the list. It does not require additional space.\n",
    "\n",
    "**median of three:** to choose the pivot point. Consider first, middle, last elements and initial pivot point is median. "
   ]
  },
  {
   "cell_type": "code",
   "execution_count": null,
   "metadata": {},
   "outputs": [],
   "source": []
  }
 ],
 "metadata": {
  "kernelspec": {
   "display_name": "Python 3",
   "language": "python",
   "name": "python3"
  },
  "language_info": {
   "codemirror_mode": {
    "name": "ipython",
    "version": 3
   },
   "file_extension": ".py",
   "mimetype": "text/x-python",
   "name": "python",
   "nbconvert_exporter": "python",
   "pygments_lexer": "ipython3",
   "version": "3.5.5"
  }
 },
 "nbformat": 4,
 "nbformat_minor": 2
}
