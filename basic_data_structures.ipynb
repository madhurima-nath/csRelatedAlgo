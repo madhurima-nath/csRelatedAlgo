{
 "cells": [
  {
   "cell_type": "markdown",
   "metadata": {},
   "source": [
    "# 3. Data Structures\n",
    "[SOURCE](http://interactivepython.org/runestone/static/pythonds/BasicDS/toctree.html)"
   ]
  },
  {
   "cell_type": "markdown",
   "metadata": {},
   "source": [
    "## Linear Data Structures.\n",
    "Once an item is added, it stays in that position relative to other elements that came before or after it. \n",
    "Examples of linear data structures are:\n",
    "- stacks\n",
    "- queues\n",
    "- dequeues\n",
    "- lists"
   ]
  },
  {
   "cell_type": "markdown",
   "metadata": {},
   "source": [
    "## Stack\n",
    "\n",
    "#### Last in first out (LIFO)\n",
    "Addition of new items and removal of existing items takes place at same end called \"top\""
   ]
  },
  {
   "cell_type": "markdown",
   "metadata": {},
   "source": [
    "#### Implementing a `Stack` in Python."
   ]
  },
  {
   "cell_type": "code",
   "execution_count": 1,
   "metadata": {},
   "outputs": [],
   "source": [
    "class Stack:\n",
    "    \n",
    "    # Using a list to implement a Stack class in Python\n",
    "    \n",
    "    def __init__(self):\n",
    "        # Create a new stack that is empty\n",
    "        self.items = []\n",
    "    \n",
    "    def isEmpty(self):\n",
    "        # Check if Stack is empty\n",
    "        return self.items == []\n",
    "    \n",
    "    def push(self, item):\n",
    "        # Add item to stack\n",
    "        self.items.append(item)\n",
    "    \n",
    "    def pop(self):\n",
    "        # Remove top item from Stack\n",
    "        return self.items.pop()\n",
    "    \n",
    "    def peek(self):\n",
    "        # Return top item from Stack without removing\n",
    "        return self.items[len(self.items)-1]\n",
    "    \n",
    "    def size(self):\n",
    "        # Return number of items in Stack\n",
    "        return len(self.items)"
   ]
  },
  {
   "cell_type": "code",
   "execution_count": null,
   "metadata": {},
   "outputs": [],
   "source": [
    "# Alternatively, one can just use the `pythonds` package.\n",
    "# from pythonds.basic.stack import Stack"
   ]
  },
  {
   "cell_type": "code",
   "execution_count": 2,
   "metadata": {},
   "outputs": [],
   "source": [
    "# Create a new stack that is empty\n",
    "test_stack = Stack()"
   ]
  },
  {
   "cell_type": "code",
   "execution_count": 3,
   "metadata": {},
   "outputs": [
    {
     "data": {
      "text/plain": [
       "True"
      ]
     },
     "execution_count": 3,
     "metadata": {},
     "output_type": "execute_result"
    }
   ],
   "source": [
    "# Check if Stack is empty\n",
    "test_stack.isEmpty()"
   ]
  },
  {
   "cell_type": "code",
   "execution_count": 4,
   "metadata": {},
   "outputs": [],
   "source": [
    "# Add item to stack\n",
    "test_stack.push(30)"
   ]
  },
  {
   "cell_type": "code",
   "execution_count": 5,
   "metadata": {},
   "outputs": [],
   "source": [
    "test_stack.push('birthday')"
   ]
  },
  {
   "cell_type": "code",
   "execution_count": 6,
   "metadata": {},
   "outputs": [
    {
     "data": {
      "text/plain": [
       "'birthday'"
      ]
     },
     "execution_count": 6,
     "metadata": {},
     "output_type": "execute_result"
    }
   ],
   "source": [
    "# Return top item from Stack without removing\n",
    "test_stack.peek()"
   ]
  },
  {
   "cell_type": "code",
   "execution_count": 7,
   "metadata": {},
   "outputs": [],
   "source": [
    "test_stack.push(True)"
   ]
  },
  {
   "cell_type": "code",
   "execution_count": 8,
   "metadata": {},
   "outputs": [
    {
     "data": {
      "text/plain": [
       "3"
      ]
     },
     "execution_count": 8,
     "metadata": {},
     "output_type": "execute_result"
    }
   ],
   "source": [
    "# Return number of items in Stack\n",
    "test_stack.size()"
   ]
  },
  {
   "cell_type": "code",
   "execution_count": 9,
   "metadata": {},
   "outputs": [
    {
     "data": {
      "text/plain": [
       "True"
      ]
     },
     "execution_count": 9,
     "metadata": {},
     "output_type": "execute_result"
    }
   ],
   "source": [
    "# Remove top item from Stack\n",
    "test_stack.pop()"
   ]
  },
  {
   "cell_type": "code",
   "execution_count": 10,
   "metadata": {},
   "outputs": [
    {
     "data": {
      "text/plain": [
       "'birthday'"
      ]
     },
     "execution_count": 10,
     "metadata": {},
     "output_type": "execute_result"
    }
   ],
   "source": [
    "test_stack.pop()"
   ]
  },
  {
   "cell_type": "markdown",
   "metadata": {},
   "source": [
    "#### Example: Write a fuction to reverse characters in a string using a Stack."
   ]
  },
  {
   "cell_type": "code",
   "execution_count": 20,
   "metadata": {},
   "outputs": [],
   "source": [
    "def revstring(input_string):\n",
    "    \n",
    "    # Create an empty Stack\n",
    "    string_stack = Stack()\n",
    "    \n",
    "    # Add each character to Stack\n",
    "    for char in input_string:\n",
    "        string_stack.push(char)\n",
    "    \n",
    "    # Create empty string to store reversed\n",
    "    reversed_string = \"\"\n",
    "    \n",
    "    # Append popped off character \n",
    "    while not string_stack.isEmpty():\n",
    "        reversed_string += string_stack.pop()\n",
    "    \n",
    "    return reversed_string"
   ]
  },
  {
   "cell_type": "markdown",
   "metadata": {},
   "source": [
    "#### Test."
   ]
  },
  {
   "cell_type": "code",
   "execution_count": 21,
   "metadata": {},
   "outputs": [
    {
     "data": {
      "text/plain": [
       "'elppa'"
      ]
     },
     "execution_count": 21,
     "metadata": {},
     "output_type": "execute_result"
    }
   ],
   "source": [
    "revstring('apple')"
   ]
  },
  {
   "cell_type": "code",
   "execution_count": 22,
   "metadata": {},
   "outputs": [
    {
     "data": {
      "text/plain": [
       "'x'"
      ]
     },
     "execution_count": 22,
     "metadata": {},
     "output_type": "execute_result"
    }
   ],
   "source": [
    "revstring('x')"
   ]
  },
  {
   "cell_type": "code",
   "execution_count": 23,
   "metadata": {},
   "outputs": [
    {
     "data": {
      "text/plain": [
       "'0987654321'"
      ]
     },
     "execution_count": 23,
     "metadata": {},
     "output_type": "execute_result"
    }
   ],
   "source": [
    "revstring('1234567890')"
   ]
  },
  {
   "cell_type": "markdown",
   "metadata": {},
   "source": [
    "#### Example: Balanced Parentheses.\n",
    "Each opening symbol has a corresponding closing symbol and the pairs are properly nested. <br>\n",
    "Good examples:\n",
    "- `(()()()())`\n",
    "- `(((())))`\n",
    "- `(()((())()))` \n",
    "\n",
    "Bad examples:\n",
    "- `((((((())`\n",
    "- `()))`\n",
    "- `(()()(()`\n",
    "\n",
    "Important considerations:\n",
    "- going from L to R, the most recent `(` must match the next `)`\n",
    "- the very first `(` may have to wait til the end for its match\n",
    "- `)` match `(` in the reverse order of their appearance"
   ]
  },
  {
   "cell_type": "code",
   "execution_count": 24,
   "metadata": {},
   "outputs": [],
   "source": [
    "def check_parens(input_string):\n",
    "    \n",
    "    # Create an empty Stack\n",
    "    holding_stack = Stack()\n",
    "    \n",
    "    # Initiate variables for while\n",
    "    balanced = True\n",
    "    index = 0\n",
    "    \n",
    "    while index < len(input_string) and balanced:\n",
    "        \n",
    "        # Consider a single element\n",
    "        element = input_string[index]\n",
    "        \n",
    "        # If it is an open parenth push to stack\n",
    "        if element == \"(\":\n",
    "            holding_stack.push(element)\n",
    "        \n",
    "        # If it is a closing parenth\n",
    "        else:\n",
    "            # and the stack does not have a corresponding open\n",
    "            if holding_stack.isEmpty():\n",
    "                balanced = False\n",
    "            # and the stack has a match remove its match\n",
    "            else:\n",
    "                holding_stack.pop()\n",
    "        \n",
    "        index += 1\n",
    "    \n",
    "    # If balanced is not false and all opens have a match\n",
    "    if balanced and holding_stack.isEmpty():\n",
    "        return True\n",
    "    \n",
    "    else:\n",
    "        return False        "
   ]
  },
  {
   "cell_type": "code",
   "execution_count": 25,
   "metadata": {},
   "outputs": [
    {
     "name": "stdout",
     "output_type": "stream",
     "text": [
      "True\n"
     ]
    }
   ],
   "source": [
    "print(check_parens('((()))'))"
   ]
  },
  {
   "cell_type": "code",
   "execution_count": 26,
   "metadata": {},
   "outputs": [
    {
     "name": "stdout",
     "output_type": "stream",
     "text": [
      "False\n"
     ]
    }
   ],
   "source": [
    "print(check_parens('(()'))"
   ]
  },
  {
   "cell_type": "markdown",
   "metadata": {},
   "source": [
    "#### Example: Generalized balancing of symbols.\n",
    "\n",
    "Now we also consider `[]` and `{}` pairs. So now we must check that the element on the top of the stack is of the same type."
   ]
  },
  {
   "cell_type": "code",
   "execution_count": 27,
   "metadata": {},
   "outputs": [],
   "source": [
    "def check_general_parens(input_string):\n",
    "    \n",
    "    # Create an empty Stack\n",
    "    holding_stack = Stack()\n",
    "    \n",
    "    # Initiate variables for while\n",
    "    balanced = True\n",
    "    index = 0\n",
    "    \n",
    "    while index < len(input_string) and balanced:\n",
    "        \n",
    "        # Consider a single element\n",
    "        element = input_string[index]\n",
    "        \n",
    "        # If it is an open parenth push to stack\n",
    "        if element in \"([{\":\n",
    "            holding_stack.push(element)\n",
    "        \n",
    "        # If it is a closing parenth\n",
    "        else:\n",
    "            # and the stack does not have a corresponding open\n",
    "            if holding_stack.isEmpty():\n",
    "                balanced = False\n",
    "            # and the stack has a match remove its match\n",
    "            else:\n",
    "                top_element = holding_stack.pop()\n",
    "                if not check_match(top_element, element):\n",
    "                    balanced = False\n",
    "        \n",
    "        index += 1\n",
    "    \n",
    "    # If balanced is not false and all opens have a match\n",
    "    if balanced and holding_stack.isEmpty():\n",
    "        return True\n",
    "    \n",
    "    else:\n",
    "        return False         \n",
    "\n",
    "\n",
    "def check_match(open, close):\n",
    "    \n",
    "    openers = \"([{\"\n",
    "    closers = \")]}\"\n",
    "    \n",
    "    return openers.index(open) == closers.index(close)"
   ]
  },
  {
   "cell_type": "code",
   "execution_count": 28,
   "metadata": {},
   "outputs": [
    {
     "name": "stdout",
     "output_type": "stream",
     "text": [
      "True\n"
     ]
    }
   ],
   "source": [
    "print(check_general_parens('{{([][])}()}'))"
   ]
  },
  {
   "cell_type": "code",
   "execution_count": 29,
   "metadata": {},
   "outputs": [
    {
     "name": "stdout",
     "output_type": "stream",
     "text": [
      "False\n"
     ]
    }
   ],
   "source": [
    "print(check_general_parens('[{()]'))"
   ]
  },
  {
   "cell_type": "markdown",
   "metadata": {},
   "source": [
    "#### Example: Converting decimal to binary.\n",
    "\n",
    "Binary representation: All values stored in a computer are a string of binary digits. The decimal number system humans are familiar with is `base = 10` whereas binary is `base = 2`. The following are equivalent.\n",
    "\n",
    "$233_{10} = 2\\times10^{2} + 3\\times10^{1} + 3\\times10^{0}$\n",
    "\n",
    "$11101001_{2} = 1\\times2^{7} + 1\\times2^{6} + 1\\times2^{5} + 0\\times2^{4} + 1\\times2^{3} + 0\\times2^{2} + 0\\times2^{1} + 1\\times2^{0}$"
   ]
  },
  {
   "cell_type": "markdown",
   "metadata": {},
   "source": [
    "#### Solution: Divide by 2 algorithm.\n",
    "\n",
    "Start with integer greater than zero. Continually divide by 2 while keeping track of remainder."
   ]
  },
  {
   "cell_type": "code",
   "execution_count": 30,
   "metadata": {},
   "outputs": [],
   "source": [
    "def divide_by_two(integer_number):\n",
    "    \n",
    "    remainder_stack = Stack()\n",
    "    while integer_number > 0:\n",
    "        \n",
    "        remainder = integer_number % 2\n",
    "        remainder_stack.push(remainder)\n",
    "        \n",
    "        integer_number = integer_number // 2\n",
    "        \n",
    "    binary_string = \"\"\n",
    "    while not remainder_stack.isEmpty():\n",
    "        binary_string += str(remainder_stack.pop())\n",
    "        \n",
    "    return binary_string"
   ]
  },
  {
   "cell_type": "code",
   "execution_count": 31,
   "metadata": {},
   "outputs": [
    {
     "name": "stdout",
     "output_type": "stream",
     "text": [
      "101010\n"
     ]
    }
   ],
   "source": [
    "print(divide_by_two(42))"
   ]
  },
  {
   "cell_type": "code",
   "execution_count": 32,
   "metadata": {},
   "outputs": [
    {
     "name": "stdout",
     "output_type": "stream",
     "text": [
      "11101001\n"
     ]
    }
   ],
   "source": [
    "print(divide_by_two(233))"
   ]
  },
  {
   "cell_type": "markdown",
   "metadata": {},
   "source": [
    "#### Example: Generalizing conversion to any base.\n",
    "\n",
    "The integer $233_{10}$ above represented in other common forms like **octal** `base = 8` and **hexadecimal** `base = 16`.\n",
    "\n",
    "$351_{8} = 2\\times8^{2} + 5\\times8^{1} + 1\\times8^{0}$\n",
    "\n",
    "$E9_{16} = 14\\times16^{1} + 9\\times16^{0}$\n",
    "\n",
    "Extending the algorithm above to base values from $1-10$ is straightforward (just switch the `2` for desired base), but once we go past $10$ we need to create digits to represent remainders beyond $9$. "
   ]
  },
  {
   "cell_type": "code",
   "execution_count": 46,
   "metadata": {},
   "outputs": [],
   "source": [
    "def base_conversion(integer_number, base):\n",
    "    \n",
    "    digits = \"0123456789ABCDEF\"\n",
    "    \n",
    "    remainder_stack = Stack()\n",
    "    while integer_number > 0:\n",
    "        \n",
    "        remainder = integer_number % base\n",
    "        remainder_stack.push(remainder)\n",
    "        \n",
    "        integer_number = integer_number // base\n",
    "        \n",
    "    new_string = \"\"\n",
    "    while not remainder_stack.isEmpty():\n",
    "        \n",
    "        # This will return the digit at the given index\n",
    "        new_string += digits[remainder_stack.pop()]\n",
    "        \n",
    "    return new_string"
   ]
  },
  {
   "cell_type": "code",
   "execution_count": 34,
   "metadata": {},
   "outputs": [
    {
     "name": "stdout",
     "output_type": "stream",
     "text": [
      "11101001\n"
     ]
    }
   ],
   "source": [
    "print(base_conversion(233, 2))"
   ]
  },
  {
   "cell_type": "code",
   "execution_count": 35,
   "metadata": {},
   "outputs": [
    {
     "name": "stdout",
     "output_type": "stream",
     "text": [
      "351\n"
     ]
    }
   ],
   "source": [
    "print(base_conversion(233, 8))"
   ]
  },
  {
   "cell_type": "code",
   "execution_count": 36,
   "metadata": {},
   "outputs": [
    {
     "name": "stdout",
     "output_type": "stream",
     "text": [
      "E9\n"
     ]
    }
   ],
   "source": [
    "print(base_conversion(233, 16))"
   ]
  },
  {
   "cell_type": "markdown",
   "metadata": {},
   "source": [
    "## Queue\n",
    "\n",
    "#### First in first out (FIFO)\n",
    "Addition of new items at one end \"rear\" and removal of existing items takes place at other end called \"front\""
   ]
  },
  {
   "cell_type": "markdown",
   "metadata": {},
   "source": [
    "#### Implementing a `Queue` in Python."
   ]
  },
  {
   "cell_type": "code",
   "execution_count": 49,
   "metadata": {},
   "outputs": [],
   "source": [
    "class Queue:\n",
    "    \n",
    "    # Using a list to implement a Queue class in Python\n",
    "    # We define position 0 as the rear\n",
    "    \n",
    "    def __init__(self):\n",
    "        # Create a new Queue that is empty\n",
    "        self.items = []\n",
    "    \n",
    "    def isEmpty(self):\n",
    "        # Check if Queue is empty\n",
    "        return self.items == []\n",
    "    \n",
    "    def enqueue(self, item):\n",
    "        # Add item to Queue\n",
    "        self.items.insert(0, item)\n",
    "    \n",
    "    def dequeue(self):\n",
    "        # Remove top item from Queue\n",
    "        return self.items.pop()\n",
    "    \n",
    "    def size(self):\n",
    "        # Return number of items in Queue\n",
    "        return len(self.items)"
   ]
  },
  {
   "cell_type": "markdown",
   "metadata": {},
   "source": [
    "#### Example: Hot potato simulation."
   ]
  },
  {
   "cell_type": "code",
   "execution_count": 50,
   "metadata": {},
   "outputs": [],
   "source": [
    "def hot_potato(name_list, num):\n",
    "    \n",
    "    potato_queue = Queue()\n",
    "    for name in name_list:\n",
    "        potato_queue.enqueue(name)\n",
    "        \n",
    "    while potato_queue.size() > 1:\n",
    "        for i in range(num):\n",
    "            potato_queue.enqueue(potato_queue.dequeue())\n",
    "        \n",
    "        potato_queue.dequeue()\n",
    "    \n",
    "    return potato_queue.dequeue()"
   ]
  },
  {
   "cell_type": "code",
   "execution_count": 51,
   "metadata": {},
   "outputs": [
    {
     "name": "stdout",
     "output_type": "stream",
     "text": [
      "Susan\n"
     ]
    }
   ],
   "source": [
    "print(hot_potato([\"Bill\",\"David\",\"Susan\",\"Jane\",\"Kent\",\"Brad\"],7))"
   ]
  },
  {
   "cell_type": "markdown",
   "metadata": {},
   "source": [
    "#### Example: Printing tasks simulation.\n",
    "Students at the library send tasks to printer. Average day has 10 students working in a given hour. Each student typically prints up to twice in the time. The length of each task can be 1-20 pages. At low quality setting it can print 10 pages per minute and at high it can print 5 pages.\n",
    "\n",
    "**What is the average amount of time a task waits in the queue?**\n",
    "\n",
    "Solution:\n",
    "- Length of print task equally likely, so generate random number from 1-20\n",
    "- If there are 10 students that results in 20 tasks per hour or 1 task per 180 seconds. To simulate if a task is created at a particular second, choose random number from 1-180, and if it is 180 then task is generated."
   ]
  },
  {
   "cell_type": "code",
   "execution_count": 52,
   "metadata": {},
   "outputs": [],
   "source": [
    "class Printer:\n",
    "    \n",
    "    def __init__(self, ppm):\n",
    "        self.page_rate = ppm\n",
    "        self.current_task = None\n",
    "        self.time_remaining = 0\n",
    "        \n",
    "    def tick(self):\n",
    "        if self.current_task != None:\n",
    "            self.time_remaining = self.time_remaining - 1\n",
    "            if self.time_remaining <= 0:\n",
    "                self.current_task = None\n",
    "    \n",
    "    def busy(self):\n",
    "        if self.current_task != None:\n",
    "            return True\n",
    "        else:\n",
    "            return False\n",
    "        \n",
    "    def start_next(self, new_task):\n",
    "        self.current_task = new_task\n",
    "        self.time_remaining = new_task.get_pages() * 60/self.page_rate"
   ]
  },
  {
   "cell_type": "code",
   "execution_count": 54,
   "metadata": {},
   "outputs": [],
   "source": [
    "import random\n",
    "\n",
    "class Task:\n",
    "    \n",
    "    def __init__(self, time):\n",
    "        self.time_stamp = time\n",
    "        self.pages = random.randrange(1, 21)\n",
    "        \n",
    "    def get_stamp(self):\n",
    "        return self.time_stamp\n",
    "    \n",
    "    def get_pages(self):\n",
    "        return self.pages\n",
    "    \n",
    "    def wait_time(self, current_time):\n",
    "        return current_time - self.time_stamp"
   ]
  },
  {
   "cell_type": "code",
   "execution_count": 67,
   "metadata": {},
   "outputs": [],
   "source": [
    "def new_print_task():\n",
    "    num = random.randrange(1, 181)\n",
    "    if num == 180:\n",
    "        return True\n",
    "    else:\n",
    "        return False\n",
    "\n",
    "\n",
    "def printer_simulation(num_seconds, pages_per_minute):\n",
    "    \n",
    "    lab_printer = Printer(pages_per_minute)\n",
    "    print_queue = Queue()\n",
    "    waiting_times = []\n",
    "    \n",
    "    for current_second in range(num_seconds):\n",
    "        \n",
    "        if new_print_task():\n",
    "            task = Task(current_second)\n",
    "            print_queue.enqueue(task)\n",
    "        \n",
    "        if (not lab_printer.busy()) and (not print_queue.isEmpty()):\n",
    "            next_task = print_queue.dequeue()\n",
    "            waiting_times.append(next_task.wait_time(current_second))\n",
    "            lab_printer.start_next(next_task)\n",
    "            \n",
    "        lab_printer.tick()\n",
    "        \n",
    "    average_wait = sum(waiting_times)/len(waiting_times)\n",
    "    print(\"Average wait {:.2f} secs {} tasks remaining.\".format(average_wait, print_queue.size()))"
   ]
  },
  {
   "cell_type": "code",
   "execution_count": 68,
   "metadata": {},
   "outputs": [
    {
     "name": "stdout",
     "output_type": "stream",
     "text": [
      "Average wait 218.08 secs 0 tasks remaining.\n",
      "Average wait 71.20 secs 0 tasks remaining.\n",
      "Average wait 53.17 secs 0 tasks remaining.\n",
      "Average wait 71.08 secs 0 tasks remaining.\n",
      "Average wait 93.96 secs 1 tasks remaining.\n",
      "Average wait 226.35 secs 0 tasks remaining.\n",
      "Average wait 51.56 secs 0 tasks remaining.\n",
      "Average wait 192.40 secs 4 tasks remaining.\n",
      "Average wait 60.11 secs 0 tasks remaining.\n",
      "Average wait 120.05 secs 3 tasks remaining.\n"
     ]
    }
   ],
   "source": [
    "for i in range(10):\n",
    "    printer_simulation(3600, 5)"
   ]
  },
  {
   "cell_type": "code",
   "execution_count": 69,
   "metadata": {},
   "outputs": [
    {
     "name": "stdout",
     "output_type": "stream",
     "text": [
      "Average wait 34.82 secs 0 tasks remaining.\n",
      "Average wait 17.53 secs 2 tasks remaining.\n",
      "Average wait 23.48 secs 0 tasks remaining.\n",
      "Average wait 1.64 secs 0 tasks remaining.\n",
      "Average wait 21.79 secs 0 tasks remaining.\n",
      "Average wait 50.44 secs 0 tasks remaining.\n",
      "Average wait 17.92 secs 0 tasks remaining.\n",
      "Average wait 13.47 secs 0 tasks remaining.\n",
      "Average wait 12.69 secs 0 tasks remaining.\n",
      "Average wait 25.10 secs 1 tasks remaining.\n"
     ]
    }
   ],
   "source": [
    "for i in range(10):\n",
    "    printer_simulation(3600, 10)"
   ]
  },
  {
   "cell_type": "markdown",
   "metadata": {},
   "source": [
    "## Deque\n",
    "\n",
    "Ordered collection of items, but there is no restriction on how items can be added or removed."
   ]
  },
  {
   "cell_type": "markdown",
   "metadata": {},
   "source": [
    "### Implementing a Deque in Python"
   ]
  },
  {
   "cell_type": "code",
   "execution_count": 70,
   "metadata": {},
   "outputs": [],
   "source": [
    "class Deque:\n",
    "    def __init__(self):\n",
    "        self.items = []\n",
    "\n",
    "    def isEmpty(self):\n",
    "        return self.items == []\n",
    "\n",
    "    def addFront(self, item):\n",
    "        self.items.append(item)\n",
    "\n",
    "    def addRear(self, item):\n",
    "        self.items.insert(0,item)\n",
    "\n",
    "    def removeFront(self):\n",
    "        return self.items.pop()\n",
    "\n",
    "    def removeRear(self):\n",
    "        return self.items.pop(0)\n",
    "\n",
    "    def size(self):\n",
    "        return len(self.items)"
   ]
  },
  {
   "cell_type": "markdown",
   "metadata": {},
   "source": [
    "**Note:** Removing/adding items from front is $O(1)$ and removing/adding items from back is $O(n)$."
   ]
  },
  {
   "cell_type": "markdown",
   "metadata": {},
   "source": [
    "#### Example. Palindrome checker.\n",
    "\n",
    "A palindrome is a string that reads the same forward and backward. Check if string is palindrome."
   ]
  },
  {
   "cell_type": "code",
   "execution_count": 71,
   "metadata": {},
   "outputs": [],
   "source": [
    "def palindrome_checker(input_string):\n",
    "    \n",
    "    string_deque = Deque()\n",
    "    \n",
    "    for char in input_string:\n",
    "        string_deque.addRear(char)\n",
    "        \n",
    "    still_equal = True\n",
    "    \n",
    "    while string_deque.size() > 1 and still_equal:\n",
    "        \n",
    "        first = string_deque.removeFront()\n",
    "        last = string_deque.removeRear()\n",
    "        \n",
    "        if first != last:\n",
    "            still_equal = False\n",
    "    \n",
    "    return still_equal"
   ]
  },
  {
   "cell_type": "code",
   "execution_count": 72,
   "metadata": {},
   "outputs": [
    {
     "name": "stdout",
     "output_type": "stream",
     "text": [
      "False\n"
     ]
    }
   ],
   "source": [
    "print(palindrome_checker(\"lsdkjfskf\"))"
   ]
  },
  {
   "cell_type": "code",
   "execution_count": 73,
   "metadata": {},
   "outputs": [
    {
     "name": "stdout",
     "output_type": "stream",
     "text": [
      "True\n"
     ]
    }
   ],
   "source": [
    "print(palindrome_checker(\"radar\"))"
   ]
  },
  {
   "cell_type": "markdown",
   "metadata": {},
   "source": [
    "## Lists\n",
    "\n",
    "A collection of items where each holds a relative position to the others. It is also known as an **unordered list** (bc not in numerical, alphabetical order)."
   ]
  },
  {
   "cell_type": "markdown",
   "metadata": {},
   "source": [
    "The `Node` Class is basic building block for linked lists. Each node contains **data field** (item itself) and **reference to next node**.  "
   ]
  },
  {
   "cell_type": "code",
   "execution_count": 80,
   "metadata": {},
   "outputs": [],
   "source": [
    "class Node:\n",
    "    def __init__(self,initdata):\n",
    "        self.data = initdata\n",
    "        self.next = None\n",
    "\n",
    "    def getData(self):\n",
    "        return self.data\n",
    "\n",
    "    def getNext(self):\n",
    "        return self.next\n",
    "\n",
    "    def setData(self,newdata):\n",
    "        self.data = newdata\n",
    "\n",
    "    def setNext(self,newnext):\n",
    "        self.next = newnext"
   ]
  },
  {
   "cell_type": "code",
   "execution_count": 79,
   "metadata": {},
   "outputs": [],
   "source": [
    "class UnorderedList:\n",
    "\n",
    "    def __init__(self):\n",
    "        self.head = None\n",
    "        \n",
    "    def isEmpty(self):\n",
    "        return self.head == None\n",
    "\n",
    "    def add(self,item):\n",
    "        temp = Node(item)\n",
    "        temp.setNext(self.head)\n",
    "        self.head = temp\n",
    "\n",
    "    def size(self):\n",
    "        current = self.head\n",
    "        count = 0\n",
    "        while current != None:\n",
    "            count = count + 1\n",
    "            current = current.getNext()\n",
    "\n",
    "        return count\n",
    "\n",
    "    def search(self,item):\n",
    "        current = self.head\n",
    "        found = False\n",
    "        while current != None and not found:\n",
    "            if current.getData() == item:\n",
    "                found = True\n",
    "            else:\n",
    "                current = current.getNext()\n",
    "\n",
    "        return found\n",
    "\n",
    "    def remove(self,item):\n",
    "        current = self.head\n",
    "        previous = None\n",
    "        found = False\n",
    "        while not found:\n",
    "            if current.getData() == item:\n",
    "                found = True\n",
    "            else:\n",
    "                previous = current\n",
    "                current = current.getNext()\n",
    "\n",
    "        if previous == None:\n",
    "            self.head = current.getNext()\n",
    "        else:\n",
    "            previous.setNext(current.getNext())"
   ]
  },
  {
   "cell_type": "code",
   "execution_count": 76,
   "metadata": {},
   "outputs": [],
   "source": [
    "def isEmpty(self):\n",
    "    return self.head == None"
   ]
  },
  {
   "cell_type": "code",
   "execution_count": 82,
   "metadata": {},
   "outputs": [],
   "source": [
    "mylist = UnorderedList()\n",
    "\n",
    "mylist.add(31)\n",
    "mylist.add(77)\n",
    "mylist.add(17)\n",
    "mylist.add(93)\n",
    "mylist.add(26)\n",
    "mylist.add(54)"
   ]
  },
  {
   "cell_type": "markdown",
   "metadata": {},
   "source": [
    "#### Should continue tutorial"
   ]
  },
  {
   "cell_type": "code",
   "execution_count": null,
   "metadata": {},
   "outputs": [],
   "source": []
  }
 ],
 "metadata": {
  "kernelspec": {
   "display_name": "Python 3",
   "language": "python",
   "name": "python3"
  },
  "language_info": {
   "codemirror_mode": {
    "name": "ipython",
    "version": 3
   },
   "file_extension": ".py",
   "mimetype": "text/x-python",
   "name": "python",
   "nbconvert_exporter": "python",
   "pygments_lexer": "ipython3",
   "version": "3.5.5"
  }
 },
 "nbformat": 4,
 "nbformat_minor": 2
}
